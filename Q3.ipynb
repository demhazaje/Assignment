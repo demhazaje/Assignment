{
 "cells": [
  {
   "cell_type": "code",
   "execution_count": 46,
   "id": "3c818ebe",
   "metadata": {},
   "outputs": [],
   "source": [
    "import cv2"
   ]
  },
  {
   "cell_type": "code",
   "execution_count": 47,
   "id": "49284f5b",
   "metadata": {},
   "outputs": [
    {
     "data": {
      "text/plain": [
       "True"
      ]
     },
     "execution_count": 47,
     "metadata": {},
     "output_type": "execute_result"
    }
   ],
   "source": [
    "vidfile=r\"C:\\Users\\demha\\OneDrive\\Desktop\\DA\\Graymatics\\Q3\\vid.mp4\"\n",
    "cap=cv2.VideoCapture(vidfile)\n",
    "if not cap.isOpened():\n",
    "    print(\"Error: Couldn't open the file\")\n",
    "t1=30\n",
    "t2=35\n",
    "fps=cap.get(cv2.CAP_PROP_FPS)\n",
    "start_frame=int(t1*fps)\n",
    "end_frame=int(t2*fps)\n",
    "width=int(cap.get(cv2.CAP_PROP_FRAME_WIDTH))\n",
    "height=int(cap.get(cv2.CAP_PROP_FRAME_HEIGHT))\n",
    "cap.set(cv2.CAP_PROP_POS_FRAMES, start_frame)"
   ]
  },
  {
   "cell_type": "code",
   "execution_count": 48,
   "id": "0741e459",
   "metadata": {},
   "outputs": [],
   "source": [
    "for frame_num in range(start_frame,end_frame):\n",
    "    ret, frame=cap.read()\n",
    "    if not ret:\n",
    "        print(\"Error: Couldn't read frame.\")\n",
    "        break\n",
    "    x1=(width-100)//2\n",
    "    x2=x1+100\n",
    "    y1=(height-100)//2\n",
    "    y2=y1+100\n",
    "    cv2.rectangle(frame,(x1,y1),(x2,y2),(180,0,240),3)\n",
    "    cv2.imshow(\"Video Window\", frame)\n",
    "    if cv2.waitKey(50) & 0xff==ord('q'):\n",
    "        break\n",
    "cap.release()\n",
    "cv2.destroyAllWindows()"
   ]
  },
  {
   "cell_type": "code",
   "execution_count": null,
   "id": "b4b635f2",
   "metadata": {},
   "outputs": [],
   "source": []
  }
 ],
 "metadata": {
  "kernelspec": {
   "display_name": "Python 3 (ipykernel)",
   "language": "python",
   "name": "python3"
  },
  "language_info": {
   "codemirror_mode": {
    "name": "ipython",
    "version": 3
   },
   "file_extension": ".py",
   "mimetype": "text/x-python",
   "name": "python",
   "nbconvert_exporter": "python",
   "pygments_lexer": "ipython3",
   "version": "3.11.5"
  }
 },
 "nbformat": 4,
 "nbformat_minor": 5
}
